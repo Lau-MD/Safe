{
 "cells": [
  {
   "cell_type": "code",
   "execution_count": 2,
   "id": "1209a807",
   "metadata": {},
   "outputs": [],
   "source": [
    "import json"
   ]
  },
  {
   "cell_type": "code",
   "execution_count": 182,
   "id": "ac7fb018",
   "metadata": {},
   "outputs": [
    {
     "data": {
      "text/plain": [
       "dict_keys(['count', 'next', 'previous', 'results', 'countUniqueNonce'])"
      ]
     },
     "execution_count": 182,
     "metadata": {},
     "output_type": "execute_result"
    }
   ],
   "source": [
    "f = open(\"C:/Users/Laura Martin Duran/Desktop/Case Studies/Safe/response_1674208960390.json\")\n",
    "\n",
    "data = json.load(f)\n",
    "\n",
    "data.keys() #'origin' located in 'results' key. 'results' value is a list."
   ]
  },
  {
   "cell_type": "code",
   "execution_count": 184,
   "id": "53848939",
   "metadata": {},
   "outputs": [
    {
     "name": "stdout",
     "output_type": "stream",
     "text": [
      "The number of “WalletConnect transactions” made with this Safe is 21\n"
     ]
    }
   ],
   "source": [
    "# 'results' is a list of dictionaries where each of them is a transaction. I rename the 'results' list as 'transactions'.\n",
    "\n",
    "transactions = data['results']\n",
    "\n",
    "wc_transactions = []\n",
    "\n",
    "for i in range(len(transactions)):\n",
    "    for key, val in transactions[i].items():\n",
    "        if key=='origin' and \"WalletConnect\" in val:\n",
    "            wc_transactions.append(val)\n",
    "            \n",
    "print(\"The number of “WalletConnect transactions” made with this Safe is\",len(wc_transactions))"
   ]
  }
 ],
 "metadata": {
  "kernelspec": {
   "display_name": "Python 3 (ipykernel)",
   "language": "python",
   "name": "python3"
  },
  "language_info": {
   "codemirror_mode": {
    "name": "ipython",
    "version": 3
   },
   "file_extension": ".py",
   "mimetype": "text/x-python",
   "name": "python",
   "nbconvert_exporter": "python",
   "pygments_lexer": "ipython3",
   "version": "3.9.13"
  }
 },
 "nbformat": 4,
 "nbformat_minor": 5
}
